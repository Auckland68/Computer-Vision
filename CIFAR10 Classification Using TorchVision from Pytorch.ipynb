{
 "cells": [
  {
   "cell_type": "markdown",
   "id": "6a69bcf6",
   "metadata": {},
   "source": [
    "# Load libraries and dataset - CIFAR10"
   ]
  },
  {
   "cell_type": "code",
   "execution_count": 10,
   "id": "f09729a4",
   "metadata": {},
   "outputs": [],
   "source": [
    "import torch\n",
    "import torchvision\n",
    "import torchvision.transforms as transforms\n",
    "\n",
    "import matplotlib.pyplot as plt\n",
    "import numpy as np"
   ]
  },
  {
   "cell_type": "code",
   "execution_count": 2,
   "id": "44973baf",
   "metadata": {},
   "outputs": [
    {
     "name": "stdout",
     "output_type": "stream",
     "text": [
      "1.10.1\n",
      "0.11.2\n"
     ]
    }
   ],
   "source": [
    "print(torch.__version__)\n",
    "print(torchvision.__version__)"
   ]
  },
  {
   "cell_type": "code",
   "execution_count": 5,
   "id": "60e65443",
   "metadata": {},
   "outputs": [
    {
     "name": "stdout",
     "output_type": "stream",
     "text": [
      "Files already downloaded and verified\n",
      "Files already downloaded and verified\n"
     ]
    }
   ],
   "source": [
    "# Download training and test sets\n",
    "cifar_trainset = torchvision.datasets.CIFAR10(root='./Projects/Datasets', \n",
    "                                            train=True, \n",
    "                                              download=True, \n",
    "                                              transform=transforms.ToTensor())\n",
    "\n",
    "cifar_testset = torchvision.datasets.CIFAR10(root = './Projects/Datasets',\n",
    "                                            train = False,\n",
    "                                            download = True,\n",
    "                                            transform = transforms.ToTensor())"
   ]
  },
  {
   "cell_type": "code",
   "execution_count": 4,
   "id": "8e1e5b88",
   "metadata": {},
   "outputs": [
    {
     "data": {
      "text/plain": [
       "Dataset CIFAR10\n",
       "    Number of datapoints: 50000\n",
       "    Root location: ./Projects/Datasets\n",
       "    Split: Train\n",
       "    StandardTransform\n",
       "Transform: ToTensor()"
      ]
     },
     "execution_count": 4,
     "metadata": {},
     "output_type": "execute_result"
    }
   ],
   "source": [
    "# Check size of training set\n",
    "cifar_trainset"
   ]
  },
  {
   "cell_type": "code",
   "execution_count": 6,
   "id": "eba6561c",
   "metadata": {},
   "outputs": [
    {
     "data": {
      "text/plain": [
       "Dataset CIFAR10\n",
       "    Number of datapoints: 10000\n",
       "    Root location: ./Projects/Datasets\n",
       "    Split: Test\n",
       "    StandardTransform\n",
       "Transform: ToTensor()"
      ]
     },
     "execution_count": 6,
     "metadata": {},
     "output_type": "execute_result"
    }
   ],
   "source": [
    "# Check size of test set\n",
    "cifar_testset"
   ]
  },
  {
   "cell_type": "code",
   "execution_count": 7,
   "id": "97045926",
   "metadata": {},
   "outputs": [],
   "source": [
    "# Load the data in batches of 8 images\n",
    "trainloader = torch.utils.data.DataLoader(cifar_trainset, batch_size = 8, shuffle = True, num_workers = 2)\n",
    "testloader = torch.utils.data.DataLoader(cifar_testset, batch_size = 8, shuffle = False, num_workers = 2)"
   ]
  },
  {
   "cell_type": "code",
   "execution_count": 8,
   "id": "f220d838",
   "metadata": {},
   "outputs": [
    {
     "data": {
      "text/plain": [
       "<torch.utils.data.dataloader.DataLoader at 0x1c99a3c2070>"
      ]
     },
     "execution_count": 8,
     "metadata": {},
     "output_type": "execute_result"
    }
   ],
   "source": [
    "trainloader"
   ]
  },
  {
   "cell_type": "code",
   "execution_count": 9,
   "id": "b8a50ba1",
   "metadata": {},
   "outputs": [],
   "source": [
    "# Set the labels for the dataset\n",
    "labels = ('plane','car','bird','cat','deer','dog','frog','horse','ship','truck')"
   ]
  },
  {
   "cell_type": "code",
   "execution_count": 11,
   "id": "e2685d25",
   "metadata": {},
   "outputs": [
    {
     "data": {
      "text/plain": [
       "torch.Size([8, 3, 32, 32])"
      ]
     },
     "execution_count": 11,
     "metadata": {},
     "output_type": "execute_result"
    }
   ],
   "source": [
    "# Load batch of images from the trainloader\n",
    "images_batch,labels_batch = iter(trainloader).next()\n",
    "images_batch.shape   # 8 images of RGB and 32 by 32 pixels"
   ]
  },
  {
   "cell_type": "code",
   "execution_count": 13,
   "id": "94c0d072",
   "metadata": {},
   "outputs": [
    {
     "data": {
      "text/plain": [
       "torch.Size([3, 36, 274])"
      ]
     },
     "execution_count": 13,
     "metadata": {},
     "output_type": "execute_result"
    }
   ],
   "source": [
    "# Reshape the data to view - make a grid of images (8 images with 2 pixel padding between image and edges of grid)\n",
    "images = torchvision.utils.make_grid(images_batch)\n",
    "images.shape   # 3 channels, height of 36 and width of 274 "
   ]
  },
  {
   "cell_type": "code",
   "execution_count": 21,
   "id": "d001019e",
   "metadata": {},
   "outputs": [
    {
     "data": {
      "text/plain": [
       "torch.Size([36, 274, 3])"
      ]
     },
     "execution_count": 21,
     "metadata": {},
     "output_type": "execute_result"
    }
   ],
   "source": [
    "# Transpose to make the height the first dimension, width the second dimension and the number of channels the third dimension\n",
    "transposed = np.transpose(images,(1,2,0))\n",
    "transposed.shape  # to visualise with matplotlib the number of channels needs to be the 3rd dimension"
   ]
  },
  {
   "cell_type": "code",
   "execution_count": 22,
   "id": "92a178be",
   "metadata": {},
   "outputs": [
    {
     "data": {
      "image/png": "[encoded data removed]",
      "text/plain": [
       "<Figure size 432x288 with 1 Axes>"
      ]
     },
     "metadata": {
      "needs_background": "light"
     },
     "output_type": "display_data"
    }
   ],
   "source": [
    "# View the first batch of images\n",
    "plt.imshow(transposed)\n",
    "plt.axis('off')\n",
    "plt.show()"
   ]
  },
  {
   "cell_type": "markdown",
   "id": "95c3ae8c",
   "metadata": {},
   "source": [
    "# Build the Model and train"
   ]
  },
  {
   "cell_type": "code",
   "execution_count": 23,
   "id": "0487198e",
   "metadata": {},
   "outputs": [],
   "source": [
    "import torch.nn as nn"
   ]
  },
  {
   "cell_type": "code",
   "execution_count": 24,
   "id": "b1aa19d2",
   "metadata": {},
   "outputs": [],
   "source": [
    "# Define parameters of the model\n",
    "\n",
    "input_size = 3   # number of channels in the image\n",
    "hid1 = 16   # number of channels output by the first convolutional layer\n",
    "hid2 = 32   # number of channels output by the second convolutional layer\n",
    "out_size = len(labels)   # equal to the number of labels which is the number of categories\n",
    "k_conv_size = 5 # convolutional kernel of 5 by 5"
   ]
  },
  {
   "cell_type": "code",
   "execution_count": 45,
   "id": "5353e780",
   "metadata": {},
   "outputs": [],
   "source": [
    "class Conv(nn.Module):\n",
    "    \n",
    "    def __init__(self):\n",
    "        super(Conv, self).__init__()\n",
    "        \n",
    "        self.layer1 = nn.Sequential(\n",
    "            nn.Conv2d(input_size, hid1, k_conv_size ),\n",
    "            nn.BatchNorm2d(hid1),\n",
    "            nn.ReLU(),\n",
    "            nn.MaxPool2d(kernel_size=2))\n",
    "        \n",
    "        self.layer2 = nn.Sequential(\n",
    "            nn.Conv2d(hid1, hid2, k_conv_size),\n",
    "            nn.BatchNorm2d(hid2),\n",
    "            nn.ReLU(),\n",
    "            nn.MaxPool2d(kernel_size=2))\n",
    "        \n",
    "        self.fc = nn.Linear(hid2 *  k_conv_size * k_conv_size, out_size)\n",
    "        \n",
    "    def forward(self, x):\n",
    "        out = self.layer1(x)\n",
    "        out = self.layer2(out)\n",
    "        out = out.reshape(out.size(0), -1)\n",
    "        out = self.fc(out)\n",
    "\n",
    "        return out  # not using probabilities so work with output weights of the linear layer rather than using a softmax"
   ]
  },
  {
   "cell_type": "code",
   "execution_count": 46,
   "id": "a2fd3d47",
   "metadata": {},
   "outputs": [],
   "source": [
    "model = Conv()"
   ]
  },
  {
   "cell_type": "code",
   "execution_count": 47,
   "id": "61b92521",
   "metadata": {},
   "outputs": [],
   "source": [
    "# Set learning rate, loss criterion and optimizer\n",
    "\n",
    "learning_rate = 0.001\n",
    "criterion = nn.CrossEntropyLoss() # loss function for classification\n",
    "optimizer = torch.optim.Adam(model.parameters(), lr = learning_rate)"
   ]
  },
  {
   "cell_type": "code",
   "execution_count": 49,
   "id": "49b12d96",
   "metadata": {},
   "outputs": [
    {
     "name": "stdout",
     "output_type": "stream",
     "text": [
      "Epoch [1/5], Step [2000/6250], Loss: 0.9860\n",
      "Epoch [1/5], Step [4000/6250], Loss: 0.9038\n",
      "Epoch [1/5], Step [6000/6250], Loss: 1.5837\n",
      "Epoch [2/5], Step [2000/6250], Loss: 1.1223\n",
      "Epoch [2/5], Step [4000/6250], Loss: 0.8702\n",
      "Epoch [2/5], Step [6000/6250], Loss: 1.2337\n",
      "Epoch [3/5], Step [2000/6250], Loss: 0.6481\n",
      "Epoch [3/5], Step [4000/6250], Loss: 1.3013\n",
      "Epoch [3/5], Step [6000/6250], Loss: 0.9692\n",
      "Epoch [4/5], Step [2000/6250], Loss: 0.5070\n",
      "Epoch [4/5], Step [4000/6250], Loss: 1.0525\n",
      "Epoch [4/5], Step [6000/6250], Loss: 1.5081\n",
      "Epoch [5/5], Step [2000/6250], Loss: 0.6474\n",
      "Epoch [5/5], Step [4000/6250], Loss: 0.5757\n",
      "Epoch [5/5], Step [6000/6250], Loss: 0.5464\n"
     ]
    }
   ],
   "source": [
    "total_step = len(trainloader)\n",
    "num_epochs = 5\n",
    "\n",
    "\n",
    "for epoch in range(num_epochs):\n",
    "    for i, (images, labels) in enumerate(trainloader):\n",
    "        \n",
    "        outputs = model(images)\n",
    "        loss = criterion(outputs, labels)\n",
    "        \n",
    "        optimizer.zero_grad()\n",
    "        loss.backward()\n",
    "        optimizer.step()\n",
    "        \n",
    "        if (i+1) % 2000 == 0:\n",
    "            print ('Epoch [{}/{}], Step [{}/{}], Loss: {:.4f}' \n",
    "                   .format(epoch+1, num_epochs, i+1, total_step, loss.item()))"
   ]
  },
  {
   "cell_type": "markdown",
   "id": "88840e8f",
   "metadata": {},
   "source": [
    "# Evaluation on the test set"
   ]
  },
  {
   "cell_type": "code",
   "execution_count": 53,
   "id": "10a01b5b",
   "metadata": {},
   "outputs": [
    {
     "name": "stdout",
     "output_type": "stream",
     "text": [
      "Accuracy of the model on the 10000 test images: 67.59%\n"
     ]
    }
   ],
   "source": [
    "model.eval()\n",
    "with torch.no_grad(): # no gradients calculated for prediction\n",
    "    \n",
    "    cor_pred = 0\n",
    "    total_pred = 0\n",
    "    for images, labels in testloader:\n",
    "\n",
    "        outputs = model(images)\n",
    "        _, predicted = torch.max(outputs.data, 1)\n",
    "        total_pred += labels.size(0)\n",
    "        cor_pred += (predicted == labels).sum().item()\n",
    "\n",
    "    print('Accuracy of the model on the 10000 test images: {}%'\\\n",
    "          .format(100 * cor_pred / total_pred))\n"
   ]
  }
 ],
 "metadata": {
  "kernelspec": {
   "display_name": "Python 3 (ipykernel)",
   "language": "python",
   "name": "python3"
  },
  "language_info": {
   "codemirror_mode": {
    "name": "ipython",
    "version": 3
   },
   "file_extension": ".py",
   "mimetype": "text/x-python",
   "name": "python",
   "nbconvert_exporter": "python",
   "pygments_lexer": "ipython3",
   "version": "3.8.12"
  }
 },
 "nbformat": 4,
 "nbformat_minor": 5
}
